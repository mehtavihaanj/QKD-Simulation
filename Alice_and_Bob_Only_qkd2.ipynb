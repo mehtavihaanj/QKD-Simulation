{
  "cells": [
    {
      "cell_type": "markdown",
      "metadata": {
        "id": "npDjPynTSF73"
      },
      "source": [
        "# QKD2: Complete the \"Alice,\" \"Bob,\" and \"Alice & Bob\" sections"
      ]
    },
    {
      "cell_type": "code",
      "execution_count": null,
      "metadata": {
        "collapsed": true,
        "id": "0-b6oPBcZvtR"
      },
      "outputs": [],
      "source": [
        "# TODO: Put your names here.\n",
        "# Name: Vihaan Mehta\n",
        "# Name: Sathvik Katta\n",
        "# Name: Thomas Leishner"
      ]
    },
    {
      "cell_type": "code",
      "execution_count": null,
      "metadata": {
        "cellView": "form",
        "collapsed": true,
        "id": "muZnudRLZvtT"
      },
      "outputs": [],
      "source": [
        "#@title #Execute This Cell First!\n",
        "#This cell's contents should match those of photon.py\n",
        "\n",
        "import random\n",
        "import numpy as np\n",
        "\n",
        "class InputError(Exception):\n",
        "    def __int__(self, expression, message):\n",
        "        self.expression = expression\n",
        "        self.message = message\n",
        "\n",
        "class Photon:\n",
        "\n",
        "    def __init__(self, Hcomp=0, Vcomp=0):\n",
        "        self.alpha = Hcomp\n",
        "        self.beta  = Vcomp\n",
        "\n",
        "    # This is for debugging purposes only!\n",
        "    def toString(self):\n",
        "        if np.isreal(self.alpha):\n",
        "            string = str(self.alpha) + \"|H> \"\n",
        "        else:\n",
        "            string = str(self.alpha) + \"|H> \"\n",
        "        if np.isreal(self.beta):\n",
        "            if self.beta >= 0:\n",
        "                string += \"+ \" + str(self.beta) + \"|V>\"\n",
        "            else:\n",
        "                string += \"- \" + str(-self.beta) + \"|V>\"\n",
        "        else:\n",
        "            string += \"+ \" + str(self.beta) + \"|V>\"\n",
        "        return string\n",
        "\n",
        "    def prepareVacuum(self):\n",
        "        energyPerMode = 0.5; # in units of hbar*omega\n",
        "        x0 = np.sqrt(energyPerMode)*random.gauss(0,1)/np.sqrt(2)\n",
        "        y0 = np.sqrt(energyPerMode)*random.gauss(0,1)/np.sqrt(2)\n",
        "        x1 = np.sqrt(energyPerMode)*random.gauss(0,1)/np.sqrt(2)\n",
        "        y1 = np.sqrt(energyPerMode)*random.gauss(0,1)/np.sqrt(2)\n",
        "        self.alpha = complex(x0, y0)\n",
        "        self.beta  = complex(x1, y1)\n",
        "\n",
        "    def prepare(self, alpha, beta, avgPhotonNumber):\n",
        "        if avgPhotonNumber < 0:\n",
        "            raise InputError()\n",
        "        vac = Photon()  # removed a \"photon.\" before Photon()\n",
        "        vac.prepareVacuum()\n",
        "        self.alpha = alpha * np.sqrt(avgPhotonNumber) + vac.alpha\n",
        "        self.beta  = beta  * np.sqrt(avgPhotonNumber) + vac.beta\n",
        "\n",
        "    def prepareH(self, avgPhotonNumber):\n",
        "        self.prepare(1, 0, avgPhotonNumber)\n",
        "\n",
        "    def prepareV(self, avgPhotonNumber):\n",
        "        self.prepare(0,1, avgPhotonNumber)\n",
        "\n",
        "    def prepareD(self, avgPhotonNumber):\n",
        "        self.prepare(1/np.sqrt(2),  1/np.sqrt(2), avgPhotonNumber)\n",
        "\n",
        "    def prepareA(self, avgPhotonNumber):\n",
        "        self.prepare(1/np.sqrt(2), -1/np.sqrt(2), avgPhotonNumber)\n",
        "\n",
        "    def prepareR(self, avgPhotonNumber):\n",
        "        self.prepare(1/np.sqrt(2),  1j/np.sqrt(2), avgPhotonNumber)\n",
        "\n",
        "    def prepareL(self, avgPhotonNumber):\n",
        "        self.prepare(1/np.sqrt(2), -1j/np.sqrt(2), avgPhotonNumber)\n",
        "\n",
        "    def measureHV(self, probDarkCount):\n",
        "        if probDarkCount < 0 or probDarkCount > 1:\n",
        "            raise InputError\n",
        "        threshold  = -0.5*np.log(1 - np.sqrt(1-probDarkCount))\n",
        "        intensityH = abs(self.alpha)**2\n",
        "        intensityV = abs(self.beta)**2\n",
        "        # The photon is absorbed by the detector:\n",
        "        self.prepareVacuum()\n",
        "        # The outcome is determined by threshold exceedances:\n",
        "        if intensityH <= threshold and intensityV <= threshold:\n",
        "            return \"N\" # no detection (invalid measurement)\n",
        "        elif intensityH >  threshold and intensityV <= threshold:\n",
        "            return \"H\" # single H photon detected\n",
        "        elif intensityH <=  threshold and intensityV > threshold:\n",
        "            return \"V\" # single V photon detected\n",
        "        else:\n",
        "            return \"M\" # multiple detections (invalid measurement)\n",
        "\n",
        "    def measureDA(self, probDarkCount):\n",
        "        a = self.alpha\n",
        "        b = self.beta\n",
        "        self.alpha = (a+b)/np.sqrt(2)\n",
        "        self.beta  = (a-b)/np.sqrt(2)\n",
        "        outcome = self.measureHV(probDarkCount)\n",
        "        if outcome == \"H\": return \"D\"\n",
        "        if outcome == \"V\": return \"A\"\n",
        "        else: return outcome\n",
        "\n",
        "    def measureRL(self, probDarkCount):\n",
        "        a = self.alpha\n",
        "        b = self.beta\n",
        "        self.alpha = (a-b*1j)/np.sqrt(2)\n",
        "        self.beta  = (a+b*1j)/np.sqrt(2)\n",
        "        outcome = self.measureHV(probDarkCount)\n",
        "        if outcome == \"H\": return \"R\"\n",
        "        if outcome == \"V\": return \"L\"\n",
        "        else: return outcome\n",
        "\n",
        "    def applyPolarizer(self, theta, phi):\n",
        "\t# Apply a polarizing filter according to the input parameters.\n",
        "\t# theta=0,    phi=0:     H polarizer\n",
        "\t# theta=pi/2, phi=0:     V polarizer\n",
        "\t# theta=pi/4, phi=0:     D polarizer\n",
        "\t# theta=pi/4, phi=pi:    A polarizer\n",
        "\t# theta=pi/4, phi=+pi/2: R polarizer\n",
        "\t# theta=pi/4, phi=-pi/2: L polarizer\n",
        "        z = np.exp(1j*phi)\n",
        "        a = self.alpha\n",
        "        b = self.beta\n",
        "        self.alpha = a*(1+np.cos(2*theta))/2 + b*np.sin(2*theta)/2*np.conj(z)\n",
        "        self.beta  = a*np.sin(2*theta)/2*z + b*(1-np.cos(2*theta))/2\n",
        "        # Now add an extra vacuum component.\n",
        "        vac = photon.Photon()\n",
        "        vac.prepareVacuum()\n",
        "        a = vac.alpha\n",
        "        b = vac.beta\n",
        "        self.alpha = self.alpha + a*np.sin(theta)**2 + b*(-np.sin(2*theta)/2)*np.conj(z)\n",
        "        self.beta  = self.beta  + a*(-np.sin(2*theta)/2)*z + b*np.cos(theta)**2\n",
        "\n",
        "    def applyUnitaryGate(self, theta, phi, lamb):\n",
        "        U = [[0,0],[0,0]]\n",
        "        z1 = np.exp(1j*phi)\n",
        "        z2 = -np.exp(1j*lamb)\n",
        "        z3 = np.exp(1j*(lamb+phi))\n",
        "        U[0][0] = np.cos(theta/2)\n",
        "        U[1][0] = np.sin(theta/2)*z1\n",
        "        U[0][1] = np.sin(theta/2)*z2\n",
        "        U[1][1] = np.cos(theta/2)*z3\n",
        "        a = self.alpha\n",
        "        b = self.beta\n",
        "        self.alpha = U[0][0]*a + U[0][1]*b\n",
        "        self.beta  = U[1][0]*a + U[1][1]*b\n",
        "\n",
        "    def applyXGate(self):\n",
        "        # Applies the Pauli X gate\n",
        "        self.applyUnitaryGate(np.pi, 0, np.pi)\n",
        "\n",
        "    def applyYGate(self):\n",
        "        # Applies the Pauli Y gate\n",
        "        self.applyUnitaryGate(np.pi, np.pi/2, np.pi/2)\n",
        "\n",
        "    def applyZGate(self):\n",
        "        # Applies the Pauli X gate\n",
        "        self.applyUnitaryGate(0, np.pi, 0)\n",
        "\n",
        "    def applyHGate(self):\n",
        "        # Applied the Hadamard (half-wavelength) gate\n",
        "        self.applyUnitaryGate(np.pi/2, 0, np.pi)\n",
        "\n",
        "    def applyQGate(self):\n",
        "        # Applies the SH (quarter-wavelength) gate\n",
        "        self.applyUnitaryGate(np.pi/2, np.pi/2, np.pi)\n",
        "\n",
        "    def applyNoisyGate(self, p):\n",
        "        # This operation acts as a depolarizing channel.\n",
        "\t# p = 0 leaves the photon unchanged.\n",
        "\t# p = 1 yields a completely random photon.\n",
        "\t# 0 < p < 1 yields a partially random photon.\n",
        "        if p < 0 or p > 1:\n",
        "            raise InputError\n",
        "        theta = np.arccos(1 - 2*random.uniform(0,1)*p)\n",
        "        phi   = p*(2*random.uniform(0,1) - 1)*np.pi\n",
        "        lamb  = p*(2*random.uniform(0,1) - 1)*np.pi\n",
        "        self.applyUnitaryGate(theta, phi, lamb)\n",
        "\n",
        "    def applyAttenuation(self, r):\n",
        "\t# This operation acts as a partially reflecting beam splitter.\n",
        "\t# r = 0 leaves the photon unchanged.\n",
        "\t# r = 1 completely absorbs the photon, leaving a vacuum state.\n",
        "\t# 0 < r < 1 partially attenuates the photon and adds some vacuum.\n",
        "\t# r is the reflectivity.\n",
        "        if r < 0 or r > 1:\n",
        "            raise InputError\n",
        "        t = np.sqrt(1-r*r) # t is the transmissivity.\n",
        "        vac = Photon()\n",
        "        vac.prepareVacuum()\n",
        "        self.alpha = (self.alpha)*t + (vac.alpha)*r\n",
        "        self.beta  = (self.beta )*t + (vac.beta)*r"
      ]
    },
    {
      "cell_type": "code",
      "execution_count": null,
      "metadata": {
        "collapsed": true,
        "id": "Cwl1M8xUZvtX"
      },
      "outputs": [],
      "source": []
    },
    {
      "cell_type": "code",
      "execution_count": null,
      "metadata": {
        "collapsed": true,
        "id": "2jzAiZ34ZvtX"
      },
      "outputs": [],
      "source": [
        "n = 100 # number of photons\n",
        "dark_count = 0.65\n",
        "photon_num = 10"
      ]
    },
    {
      "cell_type": "code",
      "execution_count": null,
      "metadata": {
        "collapsed": true,
        "id": "YoSA29KXZvtX"
      },
      "outputs": [],
      "source": []
    },
    {
      "cell_type": "code",
      "execution_count": null,
      "metadata": {
        "colab": {
          "base_uri": "https://localhost:8080/"
        },
        "collapsed": true,
        "id": "XE8OzBqlZvtY",
        "outputId": "5fed73bb-6aa7-4711-fc64-3e2b86940957"
      },
      "outputs": [
        {
          "output_type": "stream",
          "name": "stdout",
          "text": [
            "keyAlice    = 0000110011110011011010110101011010101111011100100000110011000001101111100110110001000010000110101010\n"
          ]
        }
      ],
      "source": [
        "# Alice --------------------------------------------\n",
        "\n",
        "# Alice generates the raw key.\n",
        "keyAlice = \"\"\n",
        "for i in range(n): # Iterate over the number of photons.\n",
        "    # Append a random character ('0' or '1') to the end.\n",
        "    if random.randint(0,1)==0: # Flip a coin (0 or 1).\n",
        "        keyAlice += '0'\n",
        "    else:\n",
        "        keyAlice += '1'\n",
        "\n",
        "# For debugging:\n",
        "print(\"keyAlice    = \" + keyAlice)"
      ]
    },
    {
      "cell_type": "code",
      "execution_count": null,
      "metadata": {
        "colab": {
          "base_uri": "https://localhost:8080/"
        },
        "collapsed": true,
        "id": "Z2BvWiy6ZvtY",
        "outputId": "8b5a2e9e-6082-4cdf-9527-ab979f5aec01"
      },
      "outputs": [
        {
          "output_type": "stream",
          "name": "stdout",
          "text": [
            "basisAlice    = +x+x+xx++++x++xx+xx+++++++++x++++++++xx+++xxxxx++x+xxx+xxx+++xx+x+x+xx++xx+++++xxx++x+++++x++xxxx+++\n",
            "100\n"
          ]
        }
      ],
      "source": [
        "# Alice chooses the encoding basis for each key bit.\n",
        "# This should be a string of '+'s and 'x's with '+'=H/V, 'x'=D/A.\n",
        "basisAlice = \"\"\n",
        "for x in range(n):\n",
        "    if random.randint(0,1) == 0:\n",
        "        basisAlice += '+'\n",
        "    else:\n",
        "        basisAlice += 'x'\n",
        "\n",
        "# For debugging:\n",
        "print(\"basisAlice    = \" + basisAlice)\n",
        "print(len(basisAlice))"
      ]
    },
    {
      "cell_type": "code",
      "execution_count": null,
      "metadata": {
        "colab": {
          "base_uri": "https://localhost:8080/"
        },
        "collapsed": true,
        "id": "1oyRGKaEZvtY",
        "outputId": "d2496328-d937-4be5-c259-f5e34f18ca7b"
      },
      "outputs": [
        {
          "output_type": "stream",
          "name": "stdout",
          "text": [
            "photonAlice    = HDHDVADHVVVAHHAAHAAHVHVVHVHVDVVHVHVHVAAVHVAADDAHHDHDAAHDAAHHHDDVAHAVAAVHDAVHVVHDDAHHDHVHHHDVVDADAHVH\n",
            "100\n"
          ]
        }
      ],
      "source": [
        "# Alice selects a photon state according to the key and basis.\n",
        "# This should be a string of the characters 'H', 'V', 'D', 'A'.\n",
        "photonAlice = \"\"\n",
        "\n",
        "for i in range(n):\n",
        "  if basisAlice[i] == \"+\":\n",
        "    if keyAlice[i] == \"0\":\n",
        "      photonAlice += \"H\"\n",
        "    else:\n",
        "      photonAlice += \"V\"\n",
        "  else:\n",
        "    if keyAlice[i] == \"0\":\n",
        "      photonAlice += \"D\"\n",
        "    else:\n",
        "      photonAlice += \"A\"\n",
        "\n",
        "# For debugging:\n",
        "print(\"photonAlice    = \" + photonAlice)\n",
        "print(len(photonAlice))"
      ]
    },
    {
      "cell_type": "code",
      "execution_count": null,
      "metadata": {
        "collapsed": true,
        "id": "PP3VzSuwZvtY"
      },
      "outputs": [],
      "source": [
        "# Alice prepares and sends each photon.\n",
        "# Use the methods of the Photon class to prepare each photon.\n",
        "photonArray = [Photon() for i in range(n)]\n",
        "\n",
        "for x in range(n):\n",
        "    if photonAlice[x] == \"H\":\n",
        "        photonArray[x].prepareH(photon_num)\n",
        "    elif photonAlice[x] == \"V\":\n",
        "        photonArray[x].prepareV(photon_num)\n",
        "    elif photonAlice[x] == \"D\":\n",
        "        photonArray[x].prepareD(photon_num)\n",
        "    elif photonAlice[x] == \"A\":\n",
        "        photonArray[x].prepareA(photon_num)\n",
        "\n",
        "# For debugging:\n",
        "# for photon in photonArray:\n",
        "#   print(photon.toString())"
      ]
    },
    {
      "cell_type": "code",
      "execution_count": null,
      "metadata": {
        "collapsed": true,
        "id": "zByVe4zyZvtZ"
      },
      "outputs": [],
      "source": []
    },
    {
      "cell_type": "code",
      "execution_count": null,
      "metadata": {
        "collapsed": true,
        "id": "JlrSgPGNZvtZ"
      },
      "outputs": [],
      "source": [
        "# Eve   -------------------------------------------- I do all of EVE besides the first one\n",
        "\n",
        "# You should implement this section after completing Alice and Bob.\n",
        "# Eve is allowed to do whatever she wants to the photonAlice array.\n",
        "# She cannot, however, have knowledge of Alice's or Bob's choice of bases,\n",
        "# nor Bob's measurement outcomes, until they are publicly announced."
      ]
    },
    {
      "cell_type": "code",
      "execution_count": null,
      "metadata": {
        "collapsed": true,
        "id": "Nn_u3kk1ZvtZ"
      },
      "outputs": [],
      "source": [
        "# Eve selects a subsample of photons from Alice to measure.\n",
        "# interceptIndex should be a string of n characters.\n",
        "# Use the convention '0'=ignored, '1'=intercepted\n",
        "interceptIndex = \"\"\n",
        "# TODO: Put your code here."
      ]
    },
    {
      "cell_type": "code",
      "execution_count": null,
      "metadata": {
        "collapsed": true,
        "id": "JZb2iecOZvtZ"
      },
      "outputs": [],
      "source": [
        "# Eve chooses a basis to measure each intercepted photon.\n",
        "# basisEve should be a string of n characters.\n",
        "# Use the convention '+'=H/V, 'x'=D/A, ' '=not measured\n",
        "basisEve = \"\"\n",
        "# TODO: Put your code here.\n"
      ]
    },
    {
      "cell_type": "code",
      "execution_count": null,
      "metadata": {
        "collapsed": true,
        "id": "5TpZVwaVZvta"
      },
      "outputs": [],
      "source": [
        "# Eve performs a measurement on each photon.\n",
        "# outcomeEve should be a string of n characters.\n",
        "# Use the convention 'H','V','D','A', ' '=not measured\n",
        "outcomeEve = \"\"\n",
        "# TODO: Put your code here.\n"
      ]
    },
    {
      "cell_type": "code",
      "execution_count": null,
      "metadata": {
        "collapsed": true,
        "id": "dW_PurHbZvta"
      },
      "outputs": [],
      "source": [
        "# Eve resends photons to Bob.\n",
        "# Be sure to handle the cases in which Eve gets an invalid measurement.\n",
        "# TODO: Put your code here.\n"
      ]
    },
    {
      "cell_type": "code",
      "execution_count": null,
      "metadata": {
        "collapsed": true,
        "id": "32CO67XSZvta"
      },
      "outputs": [],
      "source": [
        "# OPTIONAL: Put any other nasty tricks here."
      ]
    },
    {
      "cell_type": "code",
      "execution_count": null,
      "metadata": {
        "collapsed": true,
        "id": "0vZPvijAZvta"
      },
      "outputs": [],
      "source": []
    },
    {
      "cell_type": "code",
      "execution_count": null,
      "metadata": {
        "colab": {
          "base_uri": "https://localhost:8080/"
        },
        "collapsed": true,
        "id": "nXuROD_KZvta",
        "outputId": "47103bd7-a9b0-4a87-a137-db42b47202df"
      },
      "outputs": [
        {
          "output_type": "stream",
          "name": "stdout",
          "text": [
            "basisBob    = +x+x++x+xxxxxx+xx++++xx+xx+xx+++xx++++xxxxxx+x+x+++xxx+xx++x++xx+++++xxx+xxxx+x++x+++xxx+x++x+x+++xx\n"
          ]
        }
      ],
      "source": [
        "# Bob   --------------------------------------------\n",
        "\n",
        "# Bob chooses a basis to measure each photon.\n",
        "# This should be a string of '+'s and 'x's with '+'=H/V, 'x'=D/A.\n",
        "basisBob = \"\"\n",
        "# TODO: Put your code here.\n",
        "\n",
        "choice = ['+', 'x']\n",
        "for i in range(n):\n",
        " if random.choice(choice)=='+':\n",
        "   basisBob += '+'\n",
        " else:\n",
        "   basisBob += 'x'\n",
        "\n",
        "# For debugging:\n",
        "print(\"basisBob    = \" + basisBob)"
      ]
    },
    {
      "cell_type": "code",
      "execution_count": null,
      "metadata": {
        "colab": {
          "base_uri": "https://localhost:8080/"
        },
        "collapsed": true,
        "id": "EJop8vFvZvta",
        "outputId": "d6732438-1606-43ec-a195-79bb0dd2c426"
      },
      "outputs": [
        {
          "output_type": "stream",
          "name": "stdout",
          "text": [
            "outcomeBob  = HDH V DH       A   HV       DVVH  V V A   AA D     D AH A   H D  H V     A   V    HH       V     H  \n"
          ]
        }
      ],
      "source": [
        "# Bob performs a measurement on each photon.\n",
        "# Use the methods of the Photon class to measure each photon.\n",
        "# outcomeBob should be a string of n characters.\n",
        "# Use the convention 'H','V','D','A', ' '=not measured\n",
        "outcomeBob = \"\"\n",
        "# TODO: Put your code here.\n",
        "for i in range(n):\n",
        "  if basisBob[i] == \"x\":\n",
        "    outcome = photonArray[i].measureDA(dark_count)\n",
        "    if outcome == \"D\" or outcome == \"A\":\n",
        "      outcomeBob += outcome\n",
        "    elif outcome == \"M\" or outcome == \"N\":\n",
        "      outcomeBob += \" \"\n",
        "  else:\n",
        "    outcome = photonArray[i].measureHV(dark_count)\n",
        "    if outcome == \"H\" or outcome == \"V\":\n",
        "      outcomeBob += outcome\n",
        "    elif outcome == \"M\" or outcome == \"N\":\n",
        "      outcomeBob += \" \"\n",
        "\n",
        "# For debugging:\n",
        "print(\"outcomeBob  = \" + outcomeBob)"
      ]
    },
    {
      "cell_type": "code",
      "execution_count": null,
      "metadata": {
        "colab": {
          "base_uri": "https://localhost:8080/"
        },
        "collapsed": true,
        "id": "0gGCyV0nZvta",
        "outputId": "d99a07e2-44fc-401e-f77e-40931b3588d4"
      },
      "outputs": [
        {
          "output_type": "stream",
          "name": "stdout",
          "text": [
            "keyBob      = 000-1-00-------1---01-------0110--1-1-1---11-0-----0-10-1---0-0--0-1-----1---1----00-------1-----0--\n"
          ]
        }
      ],
      "source": [
        "#Bob infers the raw key.\n",
        "# keyBob should be a string of n characters.\n",
        "# Use the convention '0', '1', '-'=invalid measurement\n",
        "keyBob = \"\"\n",
        "# TODO: Put your code here.\n",
        "for i in range (n):\n",
        "  if outcomeBob[i] == 'H':\n",
        "    keyBob += '0'\n",
        "  elif outcomeBob[i] == 'D':\n",
        "    keyBob += '0'\n",
        "  elif outcomeBob[i] == \"M\" or outcomeBob[i] == \"N\" or outcomeBob[i] == \" \":\n",
        "    keyBob += \"-\"\n",
        "  else:\n",
        "    keyBob += '1'\n",
        "\n",
        "# For debugging:\n",
        "print(\"keyBob      = \" + keyBob)"
      ]
    },
    {
      "cell_type": "code",
      "execution_count": null,
      "metadata": {
        "collapsed": true,
        "id": "Y7wJGnQ4Zvtb"
      },
      "outputs": [],
      "source": []
    },
    {
      "cell_type": "code",
      "execution_count": null,
      "metadata": {
        "collapsed": true,
        "id": "1zGtLaTnZvtb"
      },
      "outputs": [],
      "source": [
        "# -----------------------------------------------------------\n",
        "# Alice and Bob now publicly announce which bases they chose.\n",
        "# Bob also announces which of his measurements were invalid.\n",
        "# -----------------------------------------------------------"
      ]
    },
    {
      "cell_type": "code",
      "execution_count": null,
      "metadata": {
        "collapsed": true,
        "id": "ZyyM_NDGZvtb",
        "colab": {
          "base_uri": "https://localhost:8080/"
        },
        "outputId": "72bf6abe-0cb7-44b2-c54a-cec38966ada9"
      },
      "outputs": [
        {
          "output_type": "stream",
          "name": "stdout",
          "text": [
            "siftedAlice = 00001 00   1   1   01  1  0 0110  101 1   11 0  0 0011001 0 0 0  0 1 1   1   1   100    0  1  1  0  \n",
            "siftedBob   = 000-1 00   -   1   01  -  - 0110  1-1 1   11 0  - -0-10-1 - 0 0  0 1 -   1   1   -00    -  1  -  0  \n"
          ]
        }
      ],
      "source": [
        "# Alice & Bob ----------------------------------------------------------\n",
        "\n",
        "# Alice and Bob extract their sifted keys.\n",
        "# siftedAlice and siftedBob should be strings of length n.\n",
        "# Use the convention '0', '1', ' '=removed\n",
        "siftedAlice = \"\"\n",
        "siftedBob   = \"\"\n",
        "# TODO: Put your code here.\n",
        "for i in range (n):\n",
        " if basisAlice[i] == basisBob[i]: # and keyBob[i] != \"-\":\n",
        "   siftedAlice += keyAlice[i]\n",
        "   siftedBob += keyBob[i]\n",
        " else:\n",
        "  siftedAlice += \" \"\n",
        "  siftedBob += \" \"\n",
        "\n",
        "\n",
        "# For debugging:\n",
        "print(\"siftedAlice = \" + siftedAlice)\n",
        "print(\"siftedBob   = \" + siftedBob)\n"
      ]
    },
    {
      "cell_type": "code",
      "execution_count": null,
      "metadata": {
        "collapsed": true,
        "id": "6EDViRyeZvtb",
        "colab": {
          "base_uri": "https://localhost:8080/"
        },
        "outputId": "6843a596-4ddb-448d-96f7-ed83db8e5cd1"
      },
      "outputs": [
        {
          "output_type": "stream",
          "name": "stdout",
          "text": [
            "1110110100111101011101010100110000001100111110100011011011001100110100111110001111111011011010110001\n",
            "0.08620689655172414\n"
          ]
        }
      ],
      "source": [
        "# Alice and Bob use a portion of their sifted keys to estimate the quantum bit error rate (QBER).\n",
        "# sampleIndex should be a string of n characters.\n",
        "# Use the convention '0'=ignored, '1'=sampled\n",
        "# The QBER is the fraction of mismatches within the sampled portion.\n",
        "# For large samples, it should be close to the actual QBER,\n",
        "# which Alice and Bob, of course, do not know.\n",
        "sampleIndex = \"\"\n",
        "sampledBobQBER = 0\n",
        "\n",
        "for x in range(n):\n",
        "    if random.randint(0,1) == 1:\n",
        "        sampleIndex += \"1\"\n",
        "    else:\n",
        "        sampleIndex += \"0\"\n",
        "\n",
        "counter = 0.0\n",
        "l_sampled = 0.0\n",
        "for x in range (n):\n",
        "    if sampleIndex[x] == \"1\":\n",
        "      l_sampled += 1\n",
        "      if siftedAlice[x] != siftedBob[x]:\n",
        "        counter += 1\n",
        "\n",
        "\n",
        "sampledBobQBER = counter / l_sampled\n",
        "\n",
        "\n",
        "\n",
        "# For debugging:\n",
        "print(sampleIndex)\n",
        "print(sampledBobQBER)\n",
        "\n",
        "# TODO: Put your code here."
      ]
    },
    {
      "cell_type": "code",
      "execution_count": null,
      "metadata": {
        "collapsed": true,
        "id": "NN2_K0cGZvtb",
        "colab": {
          "base_uri": "https://localhost:8080/"
        },
        "outputId": "0f109336-ce41-4f92-863f-a5412d525ec4"
      },
      "outputs": [
        {
          "output_type": "stream",
          "name": "stdout",
          "text": [
            "   0  0             1     0   10  10  1      0  0   1  0  0   0      1       1          0  1     0  \n",
            "   -  0             1     -   10  1-  1      0  -   -  -  -   0      -       1          -  1     0  \n"
          ]
        }
      ],
      "source": [
        "# Alice and Bob remove the portion of their sifted keys that was sampled.\n",
        "# Since a portion of the sifted key was publicly revealed, it cannot be used.\n",
        "# secureAlice and secureBob should be strings of length n.\n",
        "# Use the convention '0', '1', ' '=removed\n",
        "secureAlice = \"\"\n",
        "secureBob = \"\"\n",
        "# TODO: Put your code here.\n",
        "for i in range(n):\n",
        "    if sampleIndex[i] == \"0\":\n",
        "        secureAlice += siftedAlice[i]\n",
        "        secureBob += siftedBob[i]\n",
        "    else:\n",
        "        secureAlice += \" \"\n",
        "        secureBob += \" \"\n",
        "\n",
        "# For debugging:\n",
        "print(secureAlice)\n",
        "print(secureBob)"
      ]
    },
    {
      "cell_type": "code",
      "execution_count": null,
      "metadata": {
        "collapsed": true,
        "id": "Tq7qTX1OZvtc",
        "colab": {
          "base_uri": "https://localhost:8080/"
        },
        "outputId": "bd5afb9a-6539-4928-8525-4ca4d1d1a14f"
      },
      "outputs": [
        {
          "output_type": "stream",
          "name": "stdout",
          "text": [
            "True\n"
          ]
        }
      ],
      "source": [
        "# Alice and Bob make a hard determination whether the channel is secure.\n",
        "# If it looks like there's something fishy, better hit the kill switch!\n",
        "channelSecure = True # default value, to be changed to False if Eve suspected\n",
        "# TODO: Put your code here.\n",
        "\n",
        "if sampledBobQBER > 0.33:\n",
        "    channelSecure = False\n",
        "\n",
        "print(channelSecure)"
      ]
    },
    {
      "cell_type": "code",
      "execution_count": null,
      "metadata": {
        "collapsed": true,
        "id": "Uy0x7ytAZvte"
      },
      "outputs": [],
      "source": []
    },
    {
      "cell_type": "code",
      "execution_count": null,
      "metadata": {
        "collapsed": true,
        "id": "kmW4fWWEZvte"
      },
      "outputs": [],
      "source": [
        "# Eve ------------------------------------------------------------------"
      ]
    },
    {
      "cell_type": "code",
      "execution_count": null,
      "metadata": {
        "collapsed": true,
        "id": "ywKmUL66Zvtf"
      },
      "outputs": [],
      "source": [
        "# Eve infers the raw key.\n",
        "# keyEve should be a string of n characters.\n",
        "# Use the convention '0', '1', '-'=invalid measurement, ' '=not measured\n",
        "keyEve = \"\"\n",
        "# TODO: Put your code here.\n"
      ]
    },
    {
      "cell_type": "code",
      "execution_count": null,
      "metadata": {
        "collapsed": true,
        "id": "rhA8RHF7Zvtf"
      },
      "outputs": [],
      "source": [
        "# Eve extracts her sifted key.\n",
        "# Knowing what Alice and Bob have publically revealed, Eve\n",
        "# now selects which portion of her sifted key to keep.\n",
        "# stolenEve should be strings of length n.\n",
        "# Use the '0', '1', ' '=removed\n",
        "stolenEve = \"\"\n",
        "# TODO: Put your code here.\n"
      ]
    },
    {
      "cell_type": "code",
      "execution_count": null,
      "metadata": {
        "collapsed": true,
        "id": "-KexLZZ2Zvtf"
      },
      "outputs": [],
      "source": []
    },
    {
      "cell_type": "code",
      "execution_count": null,
      "metadata": {
        "collapsed": true,
        "id": "0ewYc4BfZvtf",
        "colab": {
          "base_uri": "https://localhost:8080/"
        },
        "outputId": "251617db-74af-4392-b6f9-b03859164a4c"
      },
      "outputs": [
        {
          "output_type": "stream",
          "name": "stdout",
          "text": [
            "\n",
            "basisAlice  = +x+x+xx++++x++xx+xx+++++++++x++++++++xx+++xxxxx++x+xxx+xxx+++xx+x+x+xx++xx+++++xxx++x+++++x++xxxx+++\n",
            "basisBob    = +x+x++x+xxxxxx+xx++++xx+xx+xx+++xx++++xxxxxx+x+x+++xxx+xx++x++xx+++++xxx+xxxx+x++x+++xxx+x++x+x+++xx\n",
            "basisEve    = \n",
            "\n",
            "keyAlice    = 0000110011110011011010110101011010101111011100100000110011000001101111100110110001000010000110101010\n",
            "keyBob      = 000-1-00-------1---01-------0110--1-1-1---11-0-----0-10-1---0-0--0-1-----1---1----00-------1-----0--\n",
            "keyEve      = \n",
            "\n",
            "siftedAlice = 00001 00   1   1   01  1  0 0110  101 1   11 0  0 0011001 0 0 0  0 1 1   1   1   100    0  1  1  0  \n",
            "siftedBob   = 000-1 00   -   1   01  -  - 0110  1-1 1   11 0  - -0-10-1 - 0 0  0 1 -   1   1   -00    -  1  -  0  \n",
            "\n",
            "secureAlice =    0  0             1     0   10  10  1      0  0   1  0  0   0      1       1          0  1     0  \n",
            "secureBob   =    -  0             1     -   10  1-  1      0  -   -  -  -   0      -       1          -  1     0  \n",
            "stolenEve   = \n",
            "\n",
            "sampledBobQBER = 0.08620689655172414\n",
            "actualBobQBER  = 0.44999999999999996\n",
            "actualEveQBER  = nan\n",
            "\n",
            "secureKeyRateBob = 110.0 kbps\n",
            "stolenKeyRateEve = nan kbps\n"
          ]
        }
      ],
      "source": [
        "# ANALYSIS -------------------------------------------------------------\n",
        "\n",
        "# Below is a standard set of metrics to evaluate each protocol.\n",
        "# You need not change any of what follows.\n",
        "\n",
        "# Compare Alice and Bob's sifted keys.\n",
        "numMatchBob = 0\n",
        "actualBobQBER = 0\n",
        "secureKeyRateBob = 0\n",
        "secureKeyLengthBob = 0\n",
        "for i in range(len(secureAlice)):\n",
        "    if secureAlice[i] != ' ':\n",
        "       secureKeyLengthBob += 1\n",
        "       if secureAlice[i] == secureBob[i]:\n",
        "           numMatchBob += 1\n",
        "\n",
        "# Compute the actual quantum bit error rate for Bob.\n",
        "if secureKeyLengthBob > 0:\n",
        "    actualBobQBER = 1 - numMatchBob / secureKeyLengthBob\n",
        "else:\n",
        "    actualBobQBER = float('nan')\n",
        "# Compute the secure key rate, assuming each trial takes 1 microsecond.\n",
        "secureKeyRateBob = (1-actualBobQBER) * secureKeyLengthBob / n * 1e6;\n",
        "\n",
        "# Compare Alice and Eve's sifted keys.\n",
        "numMatchEve = 0\n",
        "actualEveQBER = 0\n",
        "stolenKeyRateEve = 0\n",
        "stolenKeyLengthEve = 0\n",
        "for i in range(len(stolenEve)):\n",
        "    if stolenEve[i] != ' ':\n",
        "       stolenKeyLengthEve += 1\n",
        "       if secureAlice[i] == stolenEve[i]:\n",
        "           numMatchEve += 1\n",
        "# Compute the actual quantum bit error rate for Eve.\n",
        "if stolenKeyLengthEve > 0:\n",
        "    actualEveQBER = 1 - numMatchEve / stolenKeyLengthEve\n",
        "else:\n",
        "    actualEveQBER = float('nan')\n",
        "# Compute the stolen key rate, assuming each trial takes 1 microsecond.\n",
        "stolenKeyRateEve = (1-actualEveQBER) * stolenKeyLengthEve / n * 1e6;\n",
        "\n",
        "\n",
        "# DISPLAY RESULTS ------------------------------------------------------\n",
        "\n",
        "print(\"\")\n",
        "print(\"basisAlice  = \" + basisAlice)\n",
        "print(\"basisBob    = \" + basisBob)\n",
        "print(\"basisEve    = \" + basisEve)\n",
        "print(\"\")\n",
        "print(\"keyAlice    = \" + keyAlice)\n",
        "print(\"keyBob      = \" + keyBob)\n",
        "print(\"keyEve      = \" + keyEve)\n",
        "print(\"\")\n",
        "print(\"siftedAlice = \" + siftedAlice)\n",
        "print(\"siftedBob   = \" + siftedBob)\n",
        "print(\"\")\n",
        "print(\"secureAlice = \" + secureAlice)\n",
        "print(\"secureBob   = \" + secureBob)\n",
        "print(\"stolenEve   = \" + stolenEve)\n",
        "print(\"\")\n",
        "if not channelSecure:\n",
        "    secureKeyRateBob = 0;\n",
        "    stolenKeyRateEve = 0;\n",
        "    print(\"*********************************************\")\n",
        "    print(\"* ALERT! The quantum channel is not secure. *\")\n",
        "    print(\"*********************************************\")\n",
        "    print(\"\")\n",
        "print(\"sampledBobQBER = \" + str(sampledBobQBER))\n",
        "print(\"actualBobQBER  = \" + str(actualBobQBER))\n",
        "print(\"actualEveQBER  = \" + str(actualEveQBER))\n",
        "print(\"\")\n",
        "print(\"secureKeyRateBob = \" + str(secureKeyRateBob/1000) + \" kbps\")\n",
        "print(\"stolenKeyRateEve = \" + str(stolenKeyRateEve/1000) + \" kbps\")\n",
        "\n",
        "# Your goal is to maximize secureKeyRateBob and minimize stolenKeyRateEve."
      ]
    }
  ],
  "metadata": {
    "colab": {
      "provenance": []
    },
    "kernelspec": {
      "display_name": "Python 3",
      "language": "python",
      "name": "python3"
    },
    "language_info": {
      "codemirror_mode": {
        "name": "ipython",
        "version": 3
      },
      "file_extension": ".py",
      "mimetype": "text/x-python",
      "name": "python",
      "nbconvert_exporter": "python",
      "pygments_lexer": "ipython3",
      "version": "3.11.4"
    }
  },
  "nbformat": 4,
  "nbformat_minor": 0
}